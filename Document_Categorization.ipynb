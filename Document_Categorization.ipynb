{
 "cells": [
  {
   "cell_type": "code",
   "execution_count": 1,
   "metadata": {},
   "outputs": [
    {
     "data": {
      "text/html": [
       "<div>\n",
       "<style>\n",
       "    .dataframe thead tr:only-child th {\n",
       "        text-align: right;\n",
       "    }\n",
       "\n",
       "    .dataframe thead th {\n",
       "        text-align: left;\n",
       "    }\n",
       "\n",
       "    .dataframe tbody tr th {\n",
       "        vertical-align: top;\n",
       "    }\n",
       "</style>\n",
       "<table border=\"1\" class=\"dataframe\">\n",
       "  <thead>\n",
       "    <tr style=\"text-align: right;\">\n",
       "      <th></th>\n",
       "      <th>category</th>\n",
       "      <th>news</th>\n",
       "    </tr>\n",
       "  </thead>\n",
       "  <tbody>\n",
       "    <tr>\n",
       "      <th>0</th>\n",
       "      <td>accident</td>\n",
       "      <td>['নওগাঁর মহাদেবপুর উপজেলার নওগাঁ-রাজশাহী মহাসড...</td>\n",
       "    </tr>\n",
       "    <tr>\n",
       "      <th>1</th>\n",
       "      <td>accident</td>\n",
       "      <td>['মংলা বন্দরের শিল্পাঞ্চল এলাকায় নির্মাণাধীন ...</td>\n",
       "    </tr>\n",
       "    <tr>\n",
       "      <th>2</th>\n",
       "      <td>accident</td>\n",
       "      <td>['মংলা বন্দরের শিল্পাঞ্চল এলাকায় নির্মাণাধীন ...</td>\n",
       "    </tr>\n",
       "    <tr>\n",
       "      <th>3</th>\n",
       "      <td>accident</td>\n",
       "      <td>['ঢাকা-ময়মনসিংহ রেললাইনের গাজীপুরের শ্রীপুর উ...</td>\n",
       "    </tr>\n",
       "    <tr>\n",
       "      <th>4</th>\n",
       "      <td>art</td>\n",
       "      <td>['সাহিত্যের সঙ্গে ক্রিকেটের সম্পর্ক হয়তো একটু...</td>\n",
       "    </tr>\n",
       "  </tbody>\n",
       "</table>\n",
       "</div>"
      ],
      "text/plain": [
       "   category                                               news\n",
       "0  accident  ['নওগাঁর মহাদেবপুর উপজেলার নওগাঁ-রাজশাহী মহাসড...\n",
       "1  accident  ['মংলা বন্দরের শিল্পাঞ্চল এলাকায় নির্মাণাধীন ...\n",
       "2  accident  ['মংলা বন্দরের শিল্পাঞ্চল এলাকায় নির্মাণাধীন ...\n",
       "3  accident  ['ঢাকা-ময়মনসিংহ রেললাইনের গাজীপুরের শ্রীপুর উ...\n",
       "4       art  ['সাহিত্যের সঙ্গে ক্রিকেটের সম্পর্ক হয়তো একটু..."
      ]
     },
     "execution_count": 1,
     "metadata": {},
     "output_type": "execute_result"
    }
   ],
   "source": [
    "import pandas as pd\n",
    "df = pd.read_csv('test.csv')\n",
    "df.head()"
   ]
  },
  {
   "cell_type": "code",
   "execution_count": 2,
   "metadata": {},
   "outputs": [
    {
     "data": {
      "text/html": [
       "<div>\n",
       "<style>\n",
       "    .dataframe thead tr:only-child th {\n",
       "        text-align: right;\n",
       "    }\n",
       "\n",
       "    .dataframe thead th {\n",
       "        text-align: left;\n",
       "    }\n",
       "\n",
       "    .dataframe tbody tr th {\n",
       "        vertical-align: top;\n",
       "    }\n",
       "</style>\n",
       "<table border=\"1\" class=\"dataframe\">\n",
       "  <thead>\n",
       "    <tr style=\"text-align: right;\">\n",
       "      <th></th>\n",
       "      <th>category</th>\n",
       "      <th>news</th>\n",
       "      <th>category_id</th>\n",
       "    </tr>\n",
       "  </thead>\n",
       "  <tbody>\n",
       "    <tr>\n",
       "      <th>0</th>\n",
       "      <td>accident</td>\n",
       "      <td>['নওগাঁর মহাদেবপুর উপজেলার নওগাঁ-রাজশাহী মহাসড...</td>\n",
       "      <td>0</td>\n",
       "    </tr>\n",
       "    <tr>\n",
       "      <th>1</th>\n",
       "      <td>accident</td>\n",
       "      <td>['মংলা বন্দরের শিল্পাঞ্চল এলাকায় নির্মাণাধীন ...</td>\n",
       "      <td>0</td>\n",
       "    </tr>\n",
       "    <tr>\n",
       "      <th>2</th>\n",
       "      <td>accident</td>\n",
       "      <td>['মংলা বন্দরের শিল্পাঞ্চল এলাকায় নির্মাণাধীন ...</td>\n",
       "      <td>0</td>\n",
       "    </tr>\n",
       "    <tr>\n",
       "      <th>3</th>\n",
       "      <td>accident</td>\n",
       "      <td>['ঢাকা-ময়মনসিংহ রেললাইনের গাজীপুরের শ্রীপুর উ...</td>\n",
       "      <td>0</td>\n",
       "    </tr>\n",
       "    <tr>\n",
       "      <th>4</th>\n",
       "      <td>art</td>\n",
       "      <td>['সাহিত্যের সঙ্গে ক্রিকেটের সম্পর্ক হয়তো একটু...</td>\n",
       "      <td>1</td>\n",
       "    </tr>\n",
       "  </tbody>\n",
       "</table>\n",
       "</div>"
      ],
      "text/plain": [
       "   category                                               news  category_id\n",
       "0  accident  ['নওগাঁর মহাদেবপুর উপজেলার নওগাঁ-রাজশাহী মহাসড...            0\n",
       "1  accident  ['মংলা বন্দরের শিল্পাঞ্চল এলাকায় নির্মাণাধীন ...            0\n",
       "2  accident  ['মংলা বন্দরের শিল্পাঞ্চল এলাকায় নির্মাণাধীন ...            0\n",
       "3  accident  ['ঢাকা-ময়মনসিংহ রেললাইনের গাজীপুরের শ্রীপুর উ...            0\n",
       "4       art  ['সাহিত্যের সঙ্গে ক্রিকেটের সম্পর্ক হয়তো একটু...            1"
      ]
     },
     "execution_count": 2,
     "metadata": {},
     "output_type": "execute_result"
    }
   ],
   "source": [
    "from io import StringIO\n",
    "col = ['category', 'news']\n",
    "df = df[col]\n",
    "df = df[pd.notnull(df['news'])]\n",
    "df.columns = ['category', 'news']\n",
    "df['category_id'] = df['category'].factorize()[0]\n",
    "category_id_df = df[['category', 'category_id']].drop_duplicates().sort_values('category_id')\n",
    "category_to_id = dict(category_id_df.values)\n",
    "id_to_category = dict(category_id_df[['category_id', 'category']].values)\n",
    "df.head()"
   ]
  },
  {
   "cell_type": "code",
   "execution_count": 4,
   "metadata": {},
   "outputs": [
    {
     "data": {
      "text/plain": [
       "<matplotlib.figure.Figure at 0x27b6f58d908>"
      ]
     },
     "metadata": {},
     "output_type": "display_data"
    },
    {
     "data": {
      "image/png": "[encoded data removed]",
      "text/plain": [
       "<matplotlib.figure.Figure at 0x27b700fb668>"
      ]
     },
     "metadata": {},
     "output_type": "display_data"
    }
   ],
   "source": [
    "import matplotlib.pyplot as plt\n",
    "fig = plt.figure(figsize=(8,6))\n",
    "df.groupby('category').news.count().plot.bar(ylim=0)\n",
    "plt.show()"
   ]
  },
  {
   "cell_type": "code",
   "execution_count": 5,
   "metadata": {
    "scrolled": true
   },
   "outputs": [
    {
     "name": "stdout",
     "output_type": "stream",
     "text": [
      "# 'accident':\n",
      "  . Most correlated unigrams:\n",
      ". ঘটন\n",
      ". আহত\n",
      "  . Most correlated bigrams:\n",
      ". উদ কর\n",
      ". ঘটন ঘট\n",
      "# 'art':\n",
      "  . Most correlated unigrams:\n",
      ". একদ\n",
      ". নভ\n",
      "  . Most correlated bigrams:\n",
      ". অন যদ\n",
      ". কর অন\n",
      "# 'crime':\n",
      "  . Most correlated unigrams:\n",
      ". উপজ\n",
      ". লয়\n",
      "  . Most correlated bigrams:\n",
      ". গত হস\n",
      ". কর হয়\n",
      "# 'economics':\n",
      "  . Most correlated unigrams:\n",
      ". রপ\n",
      ". ষর\n",
      "  . Most correlated bigrams:\n",
      ". করপ শন\n",
      ". বর তম\n",
      "# 'education':\n",
      "  . Most correlated unigrams:\n",
      ". রশ\n",
      ". উত\n",
      "  . Most correlated bigrams:\n",
      ". রহণ কর\n",
      ". উত তর\n",
      "# 'entertainment':\n",
      "  . Most correlated unigrams:\n",
      ". নট\n",
      ". ছব\n",
      "  . Most correlated bigrams:\n",
      ". আম মন\n",
      ". পর লক\n",
      "# 'environment':\n",
      "  . Most correlated unigrams:\n",
      ". মকর\n",
      ". উপজ\n",
      "  . Most correlated bigrams:\n",
      ". বন কর\n",
      ". কর মকর\n",
      "# 'international':\n",
      "  . Most correlated unigrams:\n",
      ". নমন\n",
      ". জর\n",
      "  . Most correlated bigrams:\n",
      ". সর বশ\n",
      ". গতক রব\n",
      "# 'opinion':\n",
      "  . Most correlated unigrams:\n",
      ". রদ\n",
      ". যথ\n",
      "  . Most correlated bigrams:\n",
      ". কর পক\n",
      ". হয় আমর\n",
      "# 'politics':\n",
      "  . Most correlated unigrams:\n",
      ". এনপ\n",
      ". য়র\n",
      "  . Most correlated bigrams:\n",
      ". চট টগ\n",
      ". করপ শন\n",
      "# 'science_tech':\n",
      "  . Most correlated unigrams:\n",
      ". সমস\n",
      ". যবহ\n",
      "  . Most correlated bigrams:\n",
      ". চন কর\n",
      ". আল কর\n",
      "# 'sports':\n",
      "  . Most correlated unigrams:\n",
      ". বলল\n",
      ". বক\n",
      "  . Most correlated bigrams:\n",
      ". পর যন\n",
      ". গত বছর\n"
     ]
    }
   ],
   "source": [
    "from sklearn.feature_extraction.text import TfidfVectorizer\n",
    "tfidf = TfidfVectorizer(sublinear_tf=True, min_df=5, norm='l2', encoding='latin-1', ngram_range=(1, 2), stop_words='english')\n",
    "features = tfidf.fit_transform(df.news).toarray()\n",
    "labels = df.category_id\n",
    "features.shape\n",
    "from sklearn.feature_selection import chi2\n",
    "import numpy as np\n",
    "N = 2\n",
    "for Product, category_id in sorted(category_to_id.items()):\n",
    "  features_chi2 = chi2(features, labels == category_id)\n",
    "  indices = np.argsort(features_chi2[0])\n",
    "  feature_names = np.array(tfidf.get_feature_names())[indices]\n",
    "  unigrams = [v for v in feature_names if len(v.split(' ')) == 1]\n",
    "  bigrams = [v for v in feature_names if len(v.split(' ')) == 2]\n",
    "  print(\"# '{}':\".format(Product))\n",
    "  print(\"  . Most correlated unigrams:\\n. {}\".format('\\n. '.join(unigrams[-N:])))\n",
    "  print(\"  . Most correlated bigrams:\\n. {}\".format('\\n. '.join(bigrams[-N:])))\n",
    "    \n"
   ]
  },
  {
   "cell_type": "code",
   "execution_count": 6,
   "metadata": {
    "collapsed": true
   },
   "outputs": [],
   "source": [
    "from sklearn.model_selection import train_test_split\n",
    "from sklearn.feature_extraction.text import CountVectorizer\n",
    "from sklearn.feature_extraction.text import TfidfTransformer\n",
    "from sklearn.naive_bayes import MultinomialNB\n",
    "X_train, X_test, y_train, y_test = train_test_split(df['news'], df['category'], random_state = 0)\n",
    "count_vect = CountVectorizer()\n",
    "X_train_counts = count_vect.fit_transform(X_train)\n",
    "tfidf_transformer = TfidfTransformer()\n",
    "X_train_tfidf = tfidf_transformer.fit_transform(X_train_counts)\n",
    "clf = MultinomialNB().fit(X_train_tfidf, y_train)"
   ]
  },
  {
   "cell_type": "code",
   "execution_count": 14,
   "metadata": {},
   "outputs": [
    {
     "data": {
      "image/png": "[encoded data removed]",
      "text/plain": [
       "<matplotlib.figure.Figure at 0x27b7379f2e8>"
      ]
     },
     "metadata": {},
     "output_type": "display_data"
    }
   ],
   "source": [
    "from sklearn.linear_model import LogisticRegression\n",
    "from sklearn.ensemble import RandomForestClassifier\n",
    "from sklearn.svm import LinearSVC\n",
    "from sklearn.model_selection import cross_val_score\n",
    "models = [\n",
    "    RandomForestClassifier(n_estimators=200, max_depth=3, random_state=0),\n",
    "    LinearSVC(),\n",
    "    MultinomialNB(),\n",
    "    LogisticRegression(random_state=0),\n",
    "]\n",
    "CV = 4\n",
    "cv_df = pd.DataFrame(index=range(CV * len(models)))\n",
    "entries = []\n",
    "for model in models:\n",
    "  model_name = model.__class__.__name__\n",
    "  accuracies = cross_val_score(model, features, labels, scoring='accuracy', cv=CV)\n",
    "  for fold_idx, accuracy in enumerate(accuracies):\n",
    "    entries.append((model_name, fold_idx, accuracy))\n",
    "cv_df = pd.DataFrame(entries, columns=['model_name', 'fold_idx', 'accuracy'])\n",
    "import seaborn as sns\n",
    "sns.boxplot(x='model_name', y='accuracy', data=cv_df)\n",
    "sns.stripplot(x='model_name', y='accuracy', data=cv_df, \n",
    "              size=8, jitter=True, edgecolor=\"gray\", linewidth=2)\n",
    "plt.show()"
   ]
  },
  {
   "cell_type": "code",
   "execution_count": 13,
   "metadata": {},
   "outputs": [
    {
     "data": {
      "text/plain": [
       "model_name\n",
       "LinearSVC                 0.541667\n",
       "LogisticRegression        0.562500\n",
       "MultinomialNB             0.520833\n",
       "RandomForestClassifier    0.500000\n",
       "Name: accuracy, dtype: float64"
      ]
     },
     "execution_count": 13,
     "metadata": {},
     "output_type": "execute_result"
    }
   ],
   "source": [
    "cv_df.groupby('model_name').accuracy.mean()\n"
   ]
  },
  {
   "cell_type": "code",
   "execution_count": null,
   "metadata": {
    "collapsed": true
   },
   "outputs": [],
   "source": []
  }
 ],
 "metadata": {
  "kernelspec": {
   "display_name": "Python 3",
   "language": "python",
   "name": "python3"
  },
  "language_info": {
   "codemirror_mode": {
    "name": "ipython",
    "version": 3
   },
   "file_extension": ".py",
   "mimetype": "text/x-python",
   "name": "python",
   "nbconvert_exporter": "python",
   "pygments_lexer": "ipython3",
   "version": "3.6.3"
  }
 },
 "nbformat": 4,
 "nbformat_minor": 2
}
